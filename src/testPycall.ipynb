{
 "cells": [
  {
   "cell_type": "code",
   "execution_count": 1,
   "metadata": {},
   "outputs": [
    {
     "name": "stdout",
     "output_type": "stream",
     "text": [
      "\u001b[32m\u001b[1m  Updating\u001b[22m\u001b[39m registry at `~/.julia/registries/General`\n",
      "\u001b[32m\u001b[1m  Updating\u001b[22m\u001b[39m git-repo `https://github.com/JuliaRegistries/General.git`\n",
      "\u001b[?25l\u001b[2K\u001b[?25h\u001b[32m\u001b[1m Resolving\u001b[22m\u001b[39m package versions...\n",
      "\u001b[32m\u001b[1m  Updating\u001b[22m\u001b[39m `~/Development/computer_vision/project/Project.toml`\n",
      "\u001b[90m [no changes]\u001b[39m\n",
      "\u001b[32m\u001b[1m  Updating\u001b[22m\u001b[39m `~/Development/computer_vision/project/Manifest.toml`\n",
      "\u001b[90m [no changes]\u001b[39m\n",
      "\u001b[32m\u001b[1m  Building\u001b[22m\u001b[39m Conda ─→ `~/.julia/packages/Conda/uQitS/deps/build.log`\n",
      "\u001b[32m\u001b[1m  Building\u001b[22m\u001b[39m PyCall → `~/.julia/packages/PyCall/0jMpb/deps/build.log`\n"
     ]
    },
    {
     "data": {
      "text/plain": [
       "padsides (generic function with 2 methods)"
      ]
     },
     "execution_count": 1,
     "metadata": {},
     "output_type": "execute_result"
    }
   ],
   "source": [
    "using Pkg\n",
    "Pkg.activate(\"../\")\n",
    "Pkg.add(\"PyCall\")\n",
    "ENV[\"PYTHON\"] = \"pythonw\"\n",
    "Pkg.build(\"PyCall\")\n",
    "\n",
    "using PyCall\n",
    "include(\"./SeamCarving.jl\")"
   ]
  },
  {
   "cell_type": "code",
   "execution_count": 2,
   "metadata": {},
   "outputs": [],
   "source": [
    "pushfirst!(PyVector(pyimport(\"sys\")[\"path\"]), \"\")\n",
    "@pyimport imageMasks\n",
    "@pyimport numpy as np\n",
    "@pyimport matplotlib.image as mpimg\n",
    "@pyimport matplotlib.pyplot as plt"
   ]
  },
  {
   "cell_type": "code",
   "execution_count": 3,
   "metadata": {},
   "outputs": [
    {
     "data": {
      "text/latex": [
       "\\begin{tabular}\n",
       "{l | r | l}\n",
       "name & size & summary \\\\\n",
       "\\hline\n",
       "Base &  & Module \\\\\n",
       "Core &  & Module \\\\\n",
       "Main &  & Module \\\\\n",
       "addSeam! & 0 bytes & typeof(addSeam!) \\\\\n",
       "contentAmplification & 0 bytes & typeof(contentAmplification) \\\\\n",
       "energy & 0 bytes & typeof(energy) \\\\\n",
       "generateSeam & 0 bytes & typeof(generateSeam) \\\\\n",
       "getThird & 0 bytes & typeof(getThird) \\\\\n",
       "growDim & 0 bytes & typeof(growDim) \\\\\n",
       "imageMasks & 9.626 KiB & Module \\\\\n",
       "masks & 0 bytes & typeof(masks) \\\\\n",
       "mpimg & 41.209 KiB & Module \\\\\n",
       "np & 64.196 KiB & Module \\\\\n",
       "padsides & 0 bytes & typeof(padsides) \\\\\n",
       "plt & 101.301 KiB & Module \\\\\n",
       "removeSeam! & 0 bytes & typeof(removeSeam!) \\\\\n",
       "resize & 0 bytes & typeof(resize) \\\\\n",
       "score & 0 bytes & typeof(score) \\\\\n",
       "seamFromImage & 0 bytes & typeof(seamFromImage) \\\\\n",
       "shrinkDim & 0 bytes & typeof(shrinkDim) \\\\\n",
       "startupfile & 57 bytes & String \\\\\n",
       "\\end{tabular}\n"
      ],
      "text/markdown": [
       "| name                 |        size | summary                      |\n",
       "|:-------------------- | -----------:|:---------------------------- |\n",
       "| Base                 |             | Module                       |\n",
       "| Core                 |             | Module                       |\n",
       "| Main                 |             | Module                       |\n",
       "| addSeam!             |     0 bytes | typeof(addSeam!)             |\n",
       "| contentAmplification |     0 bytes | typeof(contentAmplification) |\n",
       "| energy               |     0 bytes | typeof(energy)               |\n",
       "| generateSeam         |     0 bytes | typeof(generateSeam)         |\n",
       "| getThird             |     0 bytes | typeof(getThird)             |\n",
       "| growDim              |     0 bytes | typeof(growDim)              |\n",
       "| imageMasks           |   9.626 KiB | Module                       |\n",
       "| masks                |     0 bytes | typeof(masks)                |\n",
       "| mpimg                |  41.209 KiB | Module                       |\n",
       "| np                   |  64.196 KiB | Module                       |\n",
       "| padsides             |     0 bytes | typeof(padsides)             |\n",
       "| plt                  | 101.301 KiB | Module                       |\n",
       "| removeSeam!          |     0 bytes | typeof(removeSeam!)          |\n",
       "| resize               |     0 bytes | typeof(resize)               |\n",
       "| score                |     0 bytes | typeof(score)                |\n",
       "| seamFromImage        |     0 bytes | typeof(seamFromImage)        |\n",
       "| shrinkDim            |     0 bytes | typeof(shrinkDim)            |\n",
       "| startupfile          |    57 bytes | String                       |\n"
      ],
      "text/plain": [
       "name                        size summary                     \n",
       "–––––––––––––––––––– ––––––––––– ––––––––––––––––––––––––––––\n",
       "Base                             Module                      \n",
       "Core                             Module                      \n",
       "Main                             Module                      \n",
       "addSeam!                 0 bytes typeof(addSeam!)            \n",
       "contentAmplification     0 bytes typeof(contentAmplification)\n",
       "energy                   0 bytes typeof(energy)              \n",
       "generateSeam             0 bytes typeof(generateSeam)        \n",
       "getThird                 0 bytes typeof(getThird)            \n",
       "growDim                  0 bytes typeof(growDim)             \n",
       "imageMasks             9.626 KiB Module                      \n",
       "masks                    0 bytes typeof(masks)               \n",
       "mpimg                 41.209 KiB Module                      \n",
       "np                    64.196 KiB Module                      \n",
       "padsides                 0 bytes typeof(padsides)            \n",
       "plt                  101.301 KiB Module                      \n",
       "removeSeam!              0 bytes typeof(removeSeam!)         \n",
       "resize                   0 bytes typeof(resize)              \n",
       "score                    0 bytes typeof(score)               \n",
       "seamFromImage            0 bytes typeof(seamFromImage)       \n",
       "shrinkDim                0 bytes typeof(shrinkDim)           \n",
       "startupfile             57 bytes String                      "
      ]
     },
     "execution_count": 3,
     "metadata": {},
     "output_type": "execute_result"
    }
   ],
   "source": [
    "varinfo()"
   ]
  },
  {
   "cell_type": "code",
   "execution_count": 4,
   "metadata": {},
   "outputs": [
    {
     "name": "stdout",
     "output_type": "stream",
     "text": [
      "WARNING:tensorflow:From /usr/local/miniconda3/envs/tfenv/lib/python3.6/site-packages/tensorflow/python/ops/sparse_ops.py:1165: sparse_to_dense (from tensorflow.python.ops.sparse_ops) is deprecated and will be removed in a future version.\n",
      "Instructions for updating:\n",
      "Create a `tf.sparse.SparseTensor` and use `tf.sparse.to_dense` instead.\n"
     ]
    },
    {
     "name": "stderr",
     "output_type": "stream",
     "text": [
      "2018-12-16 17:00:22.698500: I tensorflow/core/platform/cpu_feature_guard.cc:141] Your CPU supports instructions that this TensorFlow binary was not compiled to use: AVX2 FMA\n"
     ]
    },
    {
     "data": {
      "text/plain": [
       "PyObject <imageMasks.MaskGenerator object at 0x129694320>"
      ]
     },
     "execution_count": 4,
     "metadata": {},
     "output_type": "execute_result"
    }
   ],
   "source": [
    "mg = imageMasks.MaskGenerator()"
   ]
  },
  {
   "cell_type": "code",
   "execution_count": 5,
   "metadata": {},
   "outputs": [],
   "source": [
    "img = load(\"../assets/people-laughing.jpg\")\n",
    "pyimg = channelview(img)\n",
    "pyimg = permutedims(pyimg,[2,3,1])\n",
    "pyimg = np.array(pyimg)\n",
    "# pyimg = PyReverseDims(pyimg)\n",
    "# immasks = mg[:computeMasks](pyimg)\n",
    "iplt = plt.imshow(pyimg)\n",
    "plt.show()"
   ]
  },
  {
   "cell_type": "code",
   "execution_count": null,
   "metadata": {},
   "outputs": [],
   "source": []
  }
 ],
 "metadata": {
  "kernelspec": {
   "display_name": "Julia 1.0.2",
   "language": "julia",
   "name": "julia-1.0"
  },
  "language_info": {
   "file_extension": ".jl",
   "mimetype": "application/julia",
   "name": "julia",
   "version": "1.0.2"
  }
 },
 "nbformat": 4,
 "nbformat_minor": 2
}
