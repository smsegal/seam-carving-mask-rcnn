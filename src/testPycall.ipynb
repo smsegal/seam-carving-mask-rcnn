{
 "cells": [
  {
   "cell_type": "code",
   "execution_count": 5,
   "metadata": {},
   "outputs": [
    {
     "name": "stdout",
     "output_type": "stream",
     "text": [
      "\u001b[32m\u001b[1m Resolving\u001b[22m\u001b[39m package versions...\n",
      "\u001b[32m\u001b[1m  Updating\u001b[22m\u001b[39m `/mnt/DATA/development/computervision/project/Project.toml`\n",
      "\u001b[90m [no changes]\u001b[39m\n",
      "\u001b[32m\u001b[1m  Updating\u001b[22m\u001b[39m `/mnt/DATA/development/computervision/project/Manifest.toml`\n",
      "\u001b[90m [no changes]\u001b[39m\n"
     ]
    },
    {
     "name": "stderr",
     "output_type": "stream",
     "text": [
      "┌ Info: Precompiling ImageView [86fae568-95e7-573e-a6b2-d8a6b900c9ef]\n",
      "└ @ Base loading.jl:1192\n",
      "Unable to init server: Could not connect: Connection refused\n",
      "ERROR: LoadError: InitError: Cannot open display: \n",
      "Stacktrace:\n",
      " [1] error(::String) at ./error.jl:33\n",
      " [2] Gtk.GLib.GError(::getfield(Gtk, Symbol(\"##235#236\"))) at /home/shane/.julia/packages/Gtk/ADDrn/src/GLib/gerror.jl:17\n",
      " [3] __init__() at /home/shane/.julia/packages/Gtk/ADDrn/src/events.jl:10\n",
      " [4] _include_from_serialized(::String, ::Array{Any,1}) at ./loading.jl:633\n",
      " [5] macro expansion at ./logging.jl:310 [inlined]\n",
      " [6] _require_search_from_serialized(::Base.PkgId, ::String) at ./loading.jl:704\n",
      " [7] _require(::Base.PkgId) at ./loading.jl:937\n",
      " [8] require(::Base.PkgId) at ./loading.jl:858\n",
      " [9] macro expansion at ./logging.jl:309 [inlined]\n",
      " [10] require(::Module, ::Symbol) at ./loading.jl:840\n",
      " [11] include at ./boot.jl:317 [inlined]\n",
      " [12] include_relative(::Module, ::String) at ./loading.jl:1044\n",
      " [13] include(::Module, ::String) at ./sysimg.jl:29\n",
      " [14] top-level scope at none:2\n",
      " [15] eval at ./boot.jl:319 [inlined]\n",
      " [16] eval(::Expr) at ./client.jl:393\n",
      " [17] top-level scope at ./none:3\n",
      "during initialization of module Gtk\n",
      "in expression starting at /home/shane/.julia/packages/ImageView/fBkoO/src/ImageView.jl:5\n"
     ]
    },
    {
     "ename": "LoadError",
     "evalue": "Failed to precompile ImageView [86fae568-95e7-573e-a6b2-d8a6b900c9ef] to /home/shane/.julia/compiled/v1.0/ImageView/4mtgY.ji.",
     "output_type": "error",
     "traceback": [
      "Failed to precompile ImageView [86fae568-95e7-573e-a6b2-d8a6b900c9ef] to /home/shane/.julia/compiled/v1.0/ImageView/4mtgY.ji.",
      "",
      "Stacktrace:",
      " [1] error(::String) at ./error.jl:33",
      " [2] macro expansion at ./logging.jl:311 [inlined]",
      " [3] compilecache(::Base.PkgId, ::String) at ./loading.jl:1190",
      " [4] macro expansion at ./logging.jl:309 [inlined]",
      " [5] _require(::Base.PkgId) at ./loading.jl:947",
      " [6] require(::Base.PkgId) at ./loading.jl:858",
      " [7] macro expansion at ./logging.jl:309 [inlined]",
      " [8] require(::Module, ::Symbol) at ./loading.jl:840",
      " [9] include at ./boot.jl:317 [inlined]",
      " [10] include_relative(::Module, ::String) at ./loading.jl:1044",
      " [11] include(::Module, ::String) at ./sysimg.jl:29",
      " [12] include(::String) at ./client.jl:392",
      " [13] top-level scope at In[5]:8"
     ]
    }
   ],
   "source": [
    "using Pkg\n",
    "Pkg.activate(\"../\")\n",
    "Pkg.add(\"PyCall\")\n",
    "\n",
    "# Pkg.build(\"PyCall\")\n",
    "\n",
    "using PyCall\n",
    "include(\"./SeamCarving.jl\")"
   ]
  },
  {
   "cell_type": "code",
   "execution_count": 4,
   "metadata": {},
   "outputs": [
    {
     "ename": "PyCall.PyError",
     "evalue": "PyError (PyImport_ImportModule\n\nThe Python package imageMasks could not be found by pyimport. Usually this means\nthat you did not install imageMasks in the Python version being used by PyCall.\n\nPyCall is currently configured to use the Julia-specific Python distribution\ninstalled by the Conda.jl package.  To install the imageMasks module, you can\nuse `pyimport_conda(\"imageMasks\", PKG)`, where PKG is the Anaconda\npackage the contains the module imageMasks, or alternatively you can use the\nConda package directly (via `using Conda` followed by `Conda.add` etcetera).\n\nAlternatively, if you want to use a different Python distribution on your\nsystem, such as a system-wide Python (as opposed to the Julia-specific Python),\nyou can re-configure PyCall with that Python.   As explained in the PyCall\ndocumentation, set ENV[\"PYTHON\"] to the path/name of the python executable\nyou want to use, run Pkg.build(\"PyCall\"), and re-launch Julia.\n\n) <class 'ModuleNotFoundError'>\nModuleNotFoundError(\"No module named 'skimage'\")\n  File \"/mnt/DATA/development/computervision/project/src/imageMasks.py\", line 6, in <module>\n    import skimage.io\n",
     "output_type": "error",
     "traceback": [
      "PyError (PyImport_ImportModule\n\nThe Python package imageMasks could not be found by pyimport. Usually this means\nthat you did not install imageMasks in the Python version being used by PyCall.\n\nPyCall is currently configured to use the Julia-specific Python distribution\ninstalled by the Conda.jl package.  To install the imageMasks module, you can\nuse `pyimport_conda(\"imageMasks\", PKG)`, where PKG is the Anaconda\npackage the contains the module imageMasks, or alternatively you can use the\nConda package directly (via `using Conda` followed by `Conda.add` etcetera).\n\nAlternatively, if you want to use a different Python distribution on your\nsystem, such as a system-wide Python (as opposed to the Julia-specific Python),\nyou can re-configure PyCall with that Python.   As explained in the PyCall\ndocumentation, set ENV[\"PYTHON\"] to the path/name of the python executable\nyou want to use, run Pkg.build(\"PyCall\"), and re-launch Julia.\n\n) <class 'ModuleNotFoundError'>\nModuleNotFoundError(\"No module named 'skimage'\")\n  File \"/mnt/DATA/development/computervision/project/src/imageMasks.py\", line 6, in <module>\n    import skimage.io\n",
      "",
      "Stacktrace:",
      " [1] pyimport(::String) at /home/shane/.julia/packages/PyCall/0jMpb/src/PyCall.jl:486",
      " [2] top-level scope at /home/shane/.julia/packages/PyCall/0jMpb/src/PyCall.jl:536",
      " [3] top-level scope at In[4]:2"
     ]
    }
   ],
   "source": [
    "pushfirst!(PyVector(pyimport(\"sys\")[\"path\"]), \"\")\n",
    "@pyimport imageMasks\n",
    "@pyimport numpy as np\n",
    "@pyimport matplotlib.image as mpimg\n",
    "@pyimport matplotlib.pyplot as plt"
   ]
  },
  {
   "cell_type": "code",
   "execution_count": 6,
   "metadata": {},
   "outputs": [
    {
     "data": {
      "text/latex": [
       "\\begin{tabular}\n",
       "{l | r | l}\n",
       "name & size & summary \\\\\n",
       "\\hline\n",
       "Base &  & Module \\\\\n",
       "Core &  & Module \\\\\n",
       "Main &  & Module \\\\\n",
       "startupfile & 51 bytes & String \\\\\n",
       "\\end{tabular}\n"
      ],
      "text/markdown": [
       "| name        |     size | summary |\n",
       "|:----------- | --------:|:------- |\n",
       "| Base        |          | Module  |\n",
       "| Core        |          | Module  |\n",
       "| Main        |          | Module  |\n",
       "| startupfile | 51 bytes | String  |\n"
      ],
      "text/plain": [
       "name            size summary\n",
       "––––––––––– –––––––– –––––––\n",
       "Base                 Module \n",
       "Core                 Module \n",
       "Main                 Module \n",
       "startupfile 51 bytes String "
      ]
     },
     "execution_count": 6,
     "metadata": {},
     "output_type": "execute_result"
    }
   ],
   "source": [
    "varinfo()"
   ]
  },
  {
   "cell_type": "code",
   "execution_count": 4,
   "metadata": {},
   "outputs": [
    {
     "name": "stdout",
     "output_type": "stream",
     "text": [
      "WARNING:tensorflow:From /usr/local/miniconda3/envs/tfenv/lib/python3.6/site-packages/tensorflow/python/ops/sparse_ops.py:1165: sparse_to_dense (from tensorflow.python.ops.sparse_ops) is deprecated and will be removed in a future version.\n",
      "Instructions for updating:\n",
      "Create a `tf.sparse.SparseTensor` and use `tf.sparse.to_dense` instead.\n"
     ]
    },
    {
     "name": "stderr",
     "output_type": "stream",
     "text": [
      "2018-12-16 17:00:22.698500: I tensorflow/core/platform/cpu_feature_guard.cc:141] Your CPU supports instructions that this TensorFlow binary was not compiled to use: AVX2 FMA\n"
     ]
    },
    {
     "data": {
      "text/plain": [
       "PyObject <imageMasks.MaskGenerator object at 0x129694320>"
      ]
     },
     "execution_count": 4,
     "metadata": {},
     "output_type": "execute_result"
    }
   ],
   "source": [
    "mg = imageMasks.MaskGenerator()"
   ]
  },
  {
   "cell_type": "code",
   "execution_count": 5,
   "metadata": {},
   "outputs": [],
   "source": [
    "img = load(\"../assets/people-laughing.jpg\")\n",
    "pyimg = channelview(img)\n",
    "pyimg = permutedims(pyimg,[2,3,1])\n",
    "pyimg = np.array(pyimg)\n",
    "# pyimg = PyReverseDims(pyimg)\n",
    "# immasks = mg[:computeMasks](pyimg)\n",
    "iplt = plt.imshow(pyimg)\n",
    "plt.show()"
   ]
  },
  {
   "cell_type": "code",
   "execution_count": null,
   "metadata": {},
   "outputs": [],
   "source": []
  }
 ],
 "metadata": {
  "@webio": {
   "lastCommId": "3d1f079755234cfc97e798e9f8361669",
   "lastKernelId": "d93992f5-21a7-40a1-b587-b9c5bb83cdd8"
  },
  "kernelspec": {
   "display_name": "Julia 1.0.2",
   "language": "julia",
   "name": "julia-1.0"
  },
  "language_info": {
   "file_extension": ".jl",
   "mimetype": "application/julia",
   "name": "julia",
   "version": "1.0.2"
  }
 },
 "nbformat": 4,
 "nbformat_minor": 2
}
