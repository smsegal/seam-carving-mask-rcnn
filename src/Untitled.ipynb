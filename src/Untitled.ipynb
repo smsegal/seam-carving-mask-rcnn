{
 "cells": [
  {
   "cell_type": "code",
   "execution_count": 3,
   "metadata": {},
   "outputs": [],
   "source": [
    "import imageMasks as im\n",
    "import skimage"
   ]
  },
  {
   "cell_type": "code",
   "execution_count": 2,
   "metadata": {},
   "outputs": [
    {
     "name": "stdout",
     "output_type": "stream",
     "text": [
      "WARNING:tensorflow:From /home/shane/.conda/envs/tfenv/lib/python3.6/site-packages/tensorflow/python/ops/sparse_ops.py:1165: sparse_to_dense (from tensorflow.python.ops.sparse_ops) is deprecated and will be removed in a future version.\n",
      "Instructions for updating:\n",
      "Create a `tf.sparse.SparseTensor` and use `tf.sparse.to_dense` instead.\n"
     ]
    }
   ],
   "source": [
    "mg = im.MaskGenerator()"
   ]
  },
  {
   "cell_type": "code",
   "execution_count": 6,
   "metadata": {},
   "outputs": [
    {
     "name": "stdout",
     "output_type": "stream",
     "text": [
      "[[[ 87 104 160]\n",
      "  [ 87 104 160]\n",
      "  [ 86 103 159]\n",
      "  ...\n",
      "  [195 131  93]\n",
      "  [197 129  92]\n",
      "  [196 134  97]]\n",
      "\n",
      " [[ 87 104 160]\n",
      "  [ 87 104 160]\n",
      "  [ 88 105 161]\n",
      "  ...\n",
      "  [193 128  88]\n",
      "  [192 128  84]\n",
      "  [189 130  88]]\n",
      "\n",
      " [[ 87 104 160]\n",
      "  [ 87 104 160]\n",
      "  [ 88 105 161]\n",
      "  ...\n",
      "  [192 123  82]\n",
      "  [191 122  80]\n",
      "  [191 129  88]]\n",
      "\n",
      " ...\n",
      "\n",
      " [[115  93  72]\n",
      "  [119  98  79]\n",
      "  [125 104  85]\n",
      "  ...\n",
      "  [105  66  49]\n",
      "  [108  70  51]\n",
      "  [104  65  48]]\n",
      "\n",
      " [[118  97  76]\n",
      "  [120  99  78]\n",
      "  [123 102  81]\n",
      "  ...\n",
      "  [114  73  55]\n",
      "  [104  62  46]\n",
      "  [105  61  48]]\n",
      "\n",
      " [[122 101  80]\n",
      "  [122 101  80]\n",
      "  [119 101  79]\n",
      "  ...\n",
      "  [111  70  50]\n",
      "  [109  68  50]\n",
      "  [106  65  47]]]\n",
      "Processing 1 images\n",
      "image                    shape: (447, 671, 3)         min:    0.00000  max:  255.00000  uint8\n",
      "molded_images            shape: (1, 1024, 1024, 3)    min: -123.70000  max:  151.10000  float64\n",
      "image_metas              shape: (1, 93)               min:    0.00000  max: 1024.00000  float64\n",
      "anchors                  shape: (1, 261888, 4)        min:   -0.35390  max:    1.29134  float32\n"
     ]
    }
   ],
   "source": [
    "img = skimage.io.imread(\"../assets/people-laughing.jpg\")\n",
    "masks = mg.computeMasks(img)"
   ]
  },
  {
   "cell_type": "code",
   "execution_count": 8,
   "metadata": {},
   "outputs": [
    {
     "data": {
      "text/plain": [
       "(447, 671, 3)"
      ]
     },
     "execution_count": 8,
     "metadata": {},
     "output_type": "execute_result"
    }
   ],
   "source": [
    "img.shape"
   ]
  },
  {
   "cell_type": "code",
   "execution_count": 9,
   "metadata": {},
   "outputs": [
    {
     "data": {
      "text/plain": [
       "87"
      ]
     },
     "execution_count": 9,
     "metadata": {},
     "output_type": "execute_result"
    }
   ],
   "source": [
    "img[0,0,0]"
   ]
  },
  {
   "cell_type": "code",
   "execution_count": null,
   "metadata": {},
   "outputs": [],
   "source": []
  }
 ],
 "metadata": {
  "@webio": {
   "lastCommId": "cabbb413d3b94896bd35ceb0b321990a",
   "lastKernelId": "fcb74db9-782a-4e24-aef1-669475c156ee"
  },
  "kernelspec": {
   "display_name": "Python 3",
   "language": "python",
   "name": "python3"
  },
  "language_info": {
   "codemirror_mode": {
    "name": "ipython",
    "version": 3
   },
   "file_extension": ".py",
   "mimetype": "text/x-python",
   "name": "python",
   "nbconvert_exporter": "python",
   "pygments_lexer": "ipython3",
   "version": "3.6.7"
  }
 },
 "nbformat": 4,
 "nbformat_minor": 2
}
